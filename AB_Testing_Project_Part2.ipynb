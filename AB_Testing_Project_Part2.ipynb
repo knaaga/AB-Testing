{
 "cells": [
  {
   "cell_type": "markdown",
   "metadata": {},
   "source": [
    "E-Learning Company Webpage A/B Testing - Part 2\n",
    "-----------"
   ]
  },
  {
   "cell_type": "markdown",
   "metadata": {},
   "source": [
    "### Key Project Steps\n",
    "1. Problem statement\n",
    "2. Baseline data\n",
    "3. Standard error of metrics\n",
    "4. Experiment sizing, duration and exposure\n",
    "5. Experimental analysis\n",
    "6. Recommendation and conclusion"
   ]
  },
  {
   "cell_type": "markdown",
   "metadata": {},
   "source": [
    "### 1. Problem Statement"
   ]
  },
  {
   "cell_type": "markdown",
   "metadata": {},
   "source": [
    "**The company's strategy pivoted from bringing in more users to their free course to maximizing user retention rate. The goal was to set clearer expectations for the students upfront, thus reducing the number of frustrated students who left the free trial. This would eventually help improve overall student experience and improve coaches' capacity to support students who are likely to complete the course. An experimental website design change was implemented to achieve this. The goal here is to determine whether or not to launch this experiment**"
   ]
  },
  {
   "cell_type": "code",
   "execution_count": 2,
   "metadata": {},
   "outputs": [],
   "source": [
    "# import relevant libraries\n",
    "import numpy as np\n",
    "import pandas as pd"
   ]
  },
  {
   "cell_type": "markdown",
   "metadata": {},
   "source": [
    "### 2. Baseline Data"
   ]
  },
  {
   "cell_type": "code",
   "execution_count": 3,
   "metadata": {},
   "outputs": [
    {
     "name": "stdout",
     "output_type": "stream",
     "text": [
      "                                              metric  baseline_val\n",
      "0  Unique cookies to view course overview page pe...  40000.000000\n",
      "1  Unique cookies to click \"Start free trial\" per...   3200.000000\n",
      "2                               Enrollments per day:    660.000000\n",
      "3   Click-through-probability on \"Start free trial\":      0.080000\n",
      "4             Probability of enrolling, given click:      0.206250\n",
      "5              Probability of payment, given enroll:      0.530000\n",
      "6                Probability of payment, given click      0.109313\n"
     ]
    }
   ],
   "source": [
    "df_basevals = pd.read_csv('data/part2_baseline_values.csv', header = None, names = ['metric','baseline_val'])\n",
    "print(df_basevals.head(10))"
   ]
  },
  {
   "cell_type": "markdown",
   "metadata": {},
   "source": [
    "### 3. Standard Error of Metrics"
   ]
  },
  {
   "cell_type": "markdown",
   "metadata": {},
   "source": [
    "**The metrics chosen were 1) Gross conversion 2) Retention and 3) Net conversion**"
   ]
  },
  {
   "cell_type": "code",
   "execution_count": 4,
   "metadata": {},
   "outputs": [
    {
     "name": "stdout",
     "output_type": "stream",
     "text": [
      "Baseline gross conversion rate: 0.20625\n",
      "Baseline retention rate: 0.53\n",
      "Baseline net conversion rate: 0.1093125\n"
     ]
    }
   ],
   "source": [
    "total_no_of_cookies = df_basevals[df_basevals['metric']=='Unique cookies to view course overview page per day:'].baseline_val.item()\n",
    "no_of_free_trial_clicks = df_basevals[df_basevals['metric']=='Unique cookies to click \"Start free trial\" per day:'].baseline_val.item()\n",
    "no_of_enrollments = df_basevals[df_basevals['metric']=='Enrollments per day:'].baseline_val.item()\n",
    "no_of_payments = df_basevals[df_basevals['metric']=='Probability of payment, given click'].baseline_val.item() * no_of_free_trial_clicks\n",
    "\n",
    "p_gross_conversion = no_of_enrollments / no_of_free_trial_clicks\n",
    "p_retention = no_of_payments / no_of_enrollments\n",
    "p_net_conversion = no_of_payments / no_of_free_trial_clicks\n",
    "\n",
    "print(f\"Baseline gross conversion rate: {p_gross_conversion}\")\n",
    "print(f\"Baseline retention rate: {p_retention}\")\n",
    "print(f\"Baseline net conversion rate: {p_net_conversion}\")"
   ]
  },
  {
   "cell_type": "code",
   "execution_count": 5,
   "metadata": {},
   "outputs": [
    {
     "name": "stdout",
     "output_type": "stream",
     "text": [
      "Std. error for gross conversion: 0.0202\n",
      "Std. error for retention: 0.0549\n",
      "Std. error for net conversion: 0.0156\n"
     ]
    }
   ],
   "source": [
    "# standard error = sqrt(p(1-p)/n)\n",
    "# the idea here is that samples from populations with percent-in-favor (success rate) close to 50% are wider than those from populations with success rate\n",
    "# closer to 0% or 100%\n",
    "# scale to sample size of 5000 page views\n",
    "\n",
    "n_gross_conversion = 5000 * (no_of_free_trial_clicks / total_no_of_cookies)\n",
    "n_retention = 5000 * (no_of_enrollments / total_no_of_cookies)\n",
    "n_net_conversion = 5000 * (no_of_free_trial_clicks / total_no_of_cookies)\n",
    "\n",
    "SE_gross_conversion = round(np.sqrt(p_gross_conversion*(1-p_gross_conversion)/n_gross_conversion), 4)\n",
    "SE_retention = round(np.sqrt(p_retention*(1-p_retention)/n_retention), 4)\n",
    "SE_net_conversion = round(np.sqrt(p_net_conversion*(1-p_net_conversion)/n_net_conversion), 4)\n",
    "\n",
    "print(f\"Std. error for gross conversion: {SE_gross_conversion}\")\n",
    "print(f\"Std. error for retention: {SE_retention}\")\n",
    "print(f\"Std. error for net conversion: {SE_net_conversion}\")"
   ]
  },
  {
   "cell_type": "markdown",
   "metadata": {},
   "source": [
    "### 4. Experiment Sizing, Duration and Exposure"
   ]
  },
  {
   "cell_type": "markdown",
   "metadata": {},
   "source": [
    "#### 4.1 Sizing"
   ]
  },
  {
   "cell_type": "markdown",
   "metadata": {},
   "source": [
    "**Using sample size calculator from https://www.evanmiller.org/ab-testing/sample-size.html**\n",
    "\n",
    "**Pageviews to achieve target statistical power**\n",
    "\n",
    "**Gross Conversion**\n",
    "* Baseline conversion: 20.625%\n",
    "* Minimum detectable effect: 1%\n",
    "* Alpha: 5%\n",
    "* Beta: 20%\n",
    "* Sensitivity: 80%\n",
    "* Sample size: 25,835 enrollments/group\n",
    "* Number of groups = 2 (experiment and control)\n",
    "* Total sample size = 51,670 enrollments\n",
    "* Clicks/pageview = 3200/40000 = 0.08\n",
    "* Pageviews required = 51,670/0.08 = 645,875\n",
    "\n",
    "**Retention**\n",
    "* Baseline conversion: 53%\n",
    "* Minimum detectable effect: 1%\n",
    "* Alpha: 5%\n",
    "* Beta: 20%\n",
    "* Sensitivity: 80%\n",
    "* Sample size: 39,115 enrollments/group\n",
    "* Number of groups = 2 (experiment and control)\n",
    "* Total sample size = 78,230 enrollments\n",
    "* Enrollments/pageview = 660/40000 = 0.0165\n",
    "* Pageviews required = 78,230/0.08 = 4,741,212\n",
    "\n",
    "**Net Conversion**\n",
    "* Baseline conversion: 10.93%\n",
    "* Minimum detectable effect: 0.75%\n",
    "* Alpha: 5%\n",
    "* Beta: 20%\n",
    "* Sensitivity: 80%\n",
    "* Sample size: 27,413 enrollments/group\n",
    "* Number of groups = 2 (experiment and control)\n",
    "* Total sample size = 54,826 enrollments\n",
    "* Clicks/pageview = 3200/40000 = 0.08\n",
    "* Pageviews required = 54,826/0.08 = 6,85,325\n",
    "\n",
    "**Pageviews required is maximum of pageviews for the different metrics. Therefore the required pageviews is 4,741,212**"
   ]
  },
  {
   "cell_type": "markdown",
   "metadata": {},
   "source": [
    "#### 4.2 Duration and Exposure"
   ]
  },
  {
   "cell_type": "markdown",
   "metadata": {},
   "source": [
    "* 100% diversion of traffic at 40,000 pageviews/day would require 119 days\n",
    "* On eliminating retention (which has the max pageview requirement currently), the pageview requirement becomes 685,325 and there are two options:\n",
    "    * 18 day experiment with 100% diversion\n",
    "    * 36 day experiment with 50% diversion\n",
    "    \n",
    "**From a time perspective, the 18 day experiment with 100% diversion seems the most reasonable**"
   ]
  },
  {
   "cell_type": "markdown",
   "metadata": {},
   "source": [
    "### 5. Experimental Analysis"
   ]
  },
  {
   "cell_type": "code",
   "execution_count": 6,
   "metadata": {},
   "outputs": [
    {
     "data": {
      "text/html": [
       "<div>\n",
       "<style scoped>\n",
       "    .dataframe tbody tr th:only-of-type {\n",
       "        vertical-align: middle;\n",
       "    }\n",
       "\n",
       "    .dataframe tbody tr th {\n",
       "        vertical-align: top;\n",
       "    }\n",
       "\n",
       "    .dataframe thead th {\n",
       "        text-align: right;\n",
       "    }\n",
       "</style>\n",
       "<table border=\"1\" class=\"dataframe\">\n",
       "  <thead>\n",
       "    <tr style=\"text-align: right;\">\n",
       "      <th></th>\n",
       "      <th>Control</th>\n",
       "      <th>Experiment</th>\n",
       "    </tr>\n",
       "  </thead>\n",
       "  <tbody>\n",
       "    <tr>\n",
       "      <th>cookies</th>\n",
       "      <td>345543.0</td>\n",
       "      <td>344660.0</td>\n",
       "    </tr>\n",
       "    <tr>\n",
       "      <th>clicks</th>\n",
       "      <td>28378.0</td>\n",
       "      <td>28325.0</td>\n",
       "    </tr>\n",
       "    <tr>\n",
       "      <th>enrollments</th>\n",
       "      <td>3785.0</td>\n",
       "      <td>3423.0</td>\n",
       "    </tr>\n",
       "    <tr>\n",
       "      <th>payments</th>\n",
       "      <td>2033.0</td>\n",
       "      <td>1945.0</td>\n",
       "    </tr>\n",
       "  </tbody>\n",
       "</table>\n",
       "</div>"
      ],
      "text/plain": [
       "              Control  Experiment\n",
       "cookies      345543.0    344660.0\n",
       "clicks        28378.0     28325.0\n",
       "enrollments    3785.0      3423.0\n",
       "payments       2033.0      1945.0"
      ]
     },
     "execution_count": 6,
     "metadata": {},
     "output_type": "execute_result"
    }
   ],
   "source": [
    "# load experimental data\n",
    "df_control = pd.read_csv('data/part2_results_control.csv')\n",
    "df_experiment = pd.read_csv('data/part2_results_experiment.csv')\n",
    "\n",
    "results = {\"Control\":pd.Series([df_control.Pageviews.sum(),df_control.Clicks.sum(),\n",
    "                                  df_control.Enrollments.sum(),df_control.Payments.sum()],\n",
    "                                  index = [\"cookies\",\"clicks\",\"enrollments\",\"payments\"]),\n",
    "           \"Experiment\":pd.Series([df_experiment.Pageviews.sum(),df_experiment.Clicks.sum(),\n",
    "                               df_experiment.Enrollments.sum(),df_experiment.Payments.sum()],\n",
    "                               index = [\"cookies\",\"clicks\",\"enrollments\",\"payments\"])}\n",
    "df_results = pd.DataFrame(results)\n",
    "df_results"
   ]
  },
  {
   "cell_type": "markdown",
   "metadata": {},
   "source": [
    "#### 5.1 Sanity Checks"
   ]
  },
  {
   "cell_type": "markdown",
   "metadata": {},
   "source": [
    "#### 5.1.1 Count Metrics"
   ]
  },
  {
   "cell_type": "code",
   "execution_count": 36,
   "metadata": {},
   "outputs": [
    {
     "data": {
      "text/html": [
       "<div>\n",
       "<style scoped>\n",
       "    .dataframe tbody tr th:only-of-type {\n",
       "        vertical-align: middle;\n",
       "    }\n",
       "\n",
       "    .dataframe tbody tr th {\n",
       "        vertical-align: top;\n",
       "    }\n",
       "\n",
       "    .dataframe thead th {\n",
       "        text-align: right;\n",
       "    }\n",
       "</style>\n",
       "<table border=\"1\" class=\"dataframe\">\n",
       "  <thead>\n",
       "    <tr style=\"text-align: right;\">\n",
       "      <th></th>\n",
       "      <th>Control</th>\n",
       "      <th>Experiment</th>\n",
       "      <th>Total</th>\n",
       "      <th>Prob</th>\n",
       "      <th>StdErr</th>\n",
       "      <th>MargErr</th>\n",
       "      <th>CI_lower</th>\n",
       "      <th>CI_upper</th>\n",
       "      <th>Obs_val</th>\n",
       "      <th>Pass_Sanity</th>\n",
       "      <th>Diff</th>\n",
       "    </tr>\n",
       "  </thead>\n",
       "  <tbody>\n",
       "    <tr>\n",
       "      <th>cookies</th>\n",
       "      <td>345543.0</td>\n",
       "      <td>344660.0</td>\n",
       "      <td>690203.0</td>\n",
       "      <td>0.5</td>\n",
       "      <td>0.000602</td>\n",
       "      <td>0.001180</td>\n",
       "      <td>0.498820</td>\n",
       "      <td>0.501180</td>\n",
       "      <td>0.499360</td>\n",
       "      <td>True</td>\n",
       "      <td>0.001279</td>\n",
       "    </tr>\n",
       "    <tr>\n",
       "      <th>clicks</th>\n",
       "      <td>28378.0</td>\n",
       "      <td>28325.0</td>\n",
       "      <td>56703.0</td>\n",
       "      <td>0.5</td>\n",
       "      <td>0.002100</td>\n",
       "      <td>0.004116</td>\n",
       "      <td>0.495884</td>\n",
       "      <td>0.504116</td>\n",
       "      <td>0.499533</td>\n",
       "      <td>True</td>\n",
       "      <td>0.000935</td>\n",
       "    </tr>\n",
       "    <tr>\n",
       "      <th>enrollments</th>\n",
       "      <td>3785.0</td>\n",
       "      <td>3423.0</td>\n",
       "      <td>7208.0</td>\n",
       "      <td>0.5</td>\n",
       "      <td>0.005889</td>\n",
       "      <td>0.011543</td>\n",
       "      <td>0.488457</td>\n",
       "      <td>0.511543</td>\n",
       "      <td>0.474889</td>\n",
       "      <td>False</td>\n",
       "      <td>0.050222</td>\n",
       "    </tr>\n",
       "    <tr>\n",
       "      <th>payments</th>\n",
       "      <td>2033.0</td>\n",
       "      <td>1945.0</td>\n",
       "      <td>3978.0</td>\n",
       "      <td>0.5</td>\n",
       "      <td>0.007928</td>\n",
       "      <td>0.015538</td>\n",
       "      <td>0.484462</td>\n",
       "      <td>0.515538</td>\n",
       "      <td>0.488939</td>\n",
       "      <td>True</td>\n",
       "      <td>0.022122</td>\n",
       "    </tr>\n",
       "  </tbody>\n",
       "</table>\n",
       "</div>"
      ],
      "text/plain": [
       "              Control  Experiment     Total  Prob    StdErr   MargErr  \\\n",
       "cookies      345543.0    344660.0  690203.0   0.5  0.000602  0.001180   \n",
       "clicks        28378.0     28325.0   56703.0   0.5  0.002100  0.004116   \n",
       "enrollments    3785.0      3423.0    7208.0   0.5  0.005889  0.011543   \n",
       "payments       2033.0      1945.0    3978.0   0.5  0.007928  0.015538   \n",
       "\n",
       "             CI_lower  CI_upper   Obs_val  Pass_Sanity      Diff  \n",
       "cookies      0.498820  0.501180  0.499360         True  0.001279  \n",
       "clicks       0.495884  0.504116  0.499533         True  0.000935  \n",
       "enrollments  0.488457  0.511543  0.474889        False  0.050222  \n",
       "payments     0.484462  0.515538  0.488939         True  0.022122  "
      ]
     },
     "execution_count": 36,
     "metadata": {},
     "output_type": "execute_result"
    }
   ],
   "source": [
    "# For invariant metrics we expect equal diversion into the experiment and control group. We will test this at the 95% confidence interval.\n",
    "# the invariant metrics tested here are cookies and clicks\n",
    "df_results['Total']=df_results.Control + df_results.Experiment\n",
    "df_results['Prob'] = 0.5\n",
    "df_results['StdErr'] = np.sqrt((df_results.Prob * (1- df_results.Prob))/df_results.Total)\n",
    "df_results[\"MargErr\"] = 1.96 * df_results.StdErr\n",
    "df_results[\"CI_lower\"] = df_results.Prob - df_results.MargErr\n",
    "df_results[\"CI_upper\"] = df_results.Prob + df_results.MargErr\n",
    "df_results[\"Obs_val\"] = df_results.Experiment/df_results.Total\n",
    "df_results[\"Pass_Sanity\"] = df_results.apply(lambda x: (x.Obs_val > x.CI_lower) and (x.Obs_val < x.CI_upper),axis=1)\n",
    "df_results['Diff'] = abs((df_results.Experiment - df_results.Control)/df_results.Total)\n",
    "df_results"
   ]
  },
  {
   "cell_type": "markdown",
   "metadata": {},
   "source": [
    "#### 5.1.2 Other metrics"
   ]
  },
  {
   "cell_type": "code",
   "execution_count": 10,
   "metadata": {},
   "outputs": [],
   "source": [
    "# function to return confidence intervals\n",
    "def stats_prop(p1,p2,z_score,n1,n2):\n",
    "    diff = p1 - p2\n",
    "    std_err = np.sqrt((p1*(1-p1)/n1) + (p2*(1-p2)/n2))\n",
    "    marg_err = z_score * std_err\n",
    "    ci_lower = diff - marg_err\n",
    "    ci_upper = diff + marg_err\n",
    "    return std_err,marg_err,ci_lower,ci_upper"
   ]
  },
  {
   "cell_type": "code",
   "execution_count": 35,
   "metadata": {},
   "outputs": [
    {
     "name": "stdout",
     "output_type": "stream",
     "text": [
      "std_err: 0.0006610610775037591\n",
      "marg_err: 0.0012956797119073678\n",
      "ci_lower: -0.0013523068034943038\n",
      "ci_upper: 0.0012390526203204318\n"
     ]
    }
   ],
   "source": [
    "# the invariant metric being tested here is click through probability (clicks/cookies)\n",
    "cont_p = df_results['Control']['clicks']/df_results['Control']['cookies']\n",
    "exp_p = df_results['Experiment']['clicks']/df_results['Experiment']['cookies']\n",
    "cont_n = df_results['Control']['cookies']\n",
    "exp_n = df_results['Experiment']['cookies']\n",
    "\n",
    "std_err,marg_err,ci_lower,ci_upper = stats_prop(cont_p, exp_p, 1.96, cont_n, exp_n)\n",
    "print(f\"std_err: {std_err}\")\n",
    "print(f\"marg_err: {marg_err}\")\n",
    "print(f\"ci_lower: {ci_lower}\")\n",
    "print(f\"ci_upper: {ci_upper}\")"
   ]
  },
  {
   "cell_type": "markdown",
   "metadata": {},
   "source": [
    "* Sanity check for cookies and clicks passes since 0.5 lies in the confidence interval. This implies that these invariant metrics are equally  distributed between the experiment and control groups.\n",
    "* Sanity check for ctp passes since zero lies in the confidence interval. This implies that the ctp is not statistically different between experiment and control groups"
   ]
  },
  {
   "cell_type": "markdown",
   "metadata": {},
   "source": [
    "#### 5.2 AB Testing"
   ]
  },
  {
   "cell_type": "code",
   "execution_count": 23,
   "metadata": {},
   "outputs": [
    {
     "name": "stderr",
     "output_type": "stream",
     "text": [
      "C:\\Users\\knaag\\miniconda3\\envs\\ml_env\\lib\\site-packages\\ipykernel_launcher.py:2: UserWarning: Boolean Series key will be reindexed to match DataFrame index.\n",
      "  \n"
     ]
    },
    {
     "data": {
      "text/html": [
       "<div>\n",
       "<style scoped>\n",
       "    .dataframe tbody tr th:only-of-type {\n",
       "        vertical-align: middle;\n",
       "    }\n",
       "\n",
       "    .dataframe tbody tr th {\n",
       "        vertical-align: top;\n",
       "    }\n",
       "\n",
       "    .dataframe thead th {\n",
       "        text-align: right;\n",
       "    }\n",
       "</style>\n",
       "<table border=\"1\" class=\"dataframe\">\n",
       "  <thead>\n",
       "    <tr style=\"text-align: right;\">\n",
       "      <th></th>\n",
       "      <th>Control</th>\n",
       "      <th>Experiment</th>\n",
       "      <th>Total</th>\n",
       "    </tr>\n",
       "  </thead>\n",
       "  <tbody>\n",
       "    <tr>\n",
       "      <th>cookies</th>\n",
       "      <td>212163.0</td>\n",
       "      <td>211362.0</td>\n",
       "      <td>423525.0</td>\n",
       "    </tr>\n",
       "    <tr>\n",
       "      <th>clicks</th>\n",
       "      <td>17293.0</td>\n",
       "      <td>17260.0</td>\n",
       "      <td>34553.0</td>\n",
       "    </tr>\n",
       "    <tr>\n",
       "      <th>enrollments</th>\n",
       "      <td>3785.0</td>\n",
       "      <td>3423.0</td>\n",
       "      <td>7208.0</td>\n",
       "    </tr>\n",
       "    <tr>\n",
       "      <th>payments</th>\n",
       "      <td>2033.0</td>\n",
       "      <td>1945.0</td>\n",
       "      <td>3978.0</td>\n",
       "    </tr>\n",
       "  </tbody>\n",
       "</table>\n",
       "</div>"
      ],
      "text/plain": [
       "              Control  Experiment     Total\n",
       "cookies      212163.0    211362.0  423525.0\n",
       "clicks        17293.0     17260.0   34553.0\n",
       "enrollments    3785.0      3423.0    7208.0\n",
       "payments       2033.0      1945.0    3978.0"
      ]
     },
     "execution_count": 23,
     "metadata": {},
     "output_type": "execute_result"
    }
   ],
   "source": [
    "df_control_notnull = df_control[pd.isnull(df_control.Enrollments) != True]\n",
    "df_experiment_notnull = df_experiment[pd.isnull(df_control.Enrollments) != True]\n",
    "results_notnull = {\"Control\":pd.Series([df_control_notnull.Pageviews.sum(),df_control_notnull.Clicks.sum(),\n",
    "                                  df_control_notnull.Enrollments.sum(),df_control_notnull.Payments.sum()],\n",
    "                                  index = [\"cookies\",\"clicks\",\"enrollments\",\"payments\"]),\n",
    "           \"Experiment\":pd.Series([df_experiment_notnull.Pageviews.sum(),df_experiment_notnull.Clicks.sum(),\n",
    "                               df_experiment_notnull.Enrollments.sum(),df_experiment_notnull.Payments.sum()],\n",
    "                               index = [\"cookies\",\"clicks\",\"enrollments\",\"payments\"])}\n",
    "df_results_notnull = pd.DataFrame(results_notnull)\n",
    "df_results_notnull['Total']=df_results_notnull.Control + df_results_notnull.Experiment\n",
    "df_results_notnull"
   ]
  },
  {
   "cell_type": "code",
   "execution_count": 26,
   "metadata": {},
   "outputs": [
    {
     "name": "stdout",
     "output_type": "stream",
     "text": [
      "Gross conversion for control: 0.2188746891805933\n",
      "Net conversion for control: 0.11756201931417337\n",
      "Gross conversion for experiment: 0.19831981460023174\n",
      "Net conversion for experiment: 0.1126882966396292\n"
     ]
    }
   ],
   "source": [
    "# experiment values\n",
    "enrollments_exp = df_results_notnull.loc[\"enrollments\"].Experiment\n",
    "clicks_exp = df_results_notnull.loc[\"clicks\"].Experiment\n",
    "payments_exp = df_results_notnull.loc[\"payments\"].Experiment\n",
    "\n",
    "# control values\n",
    "enrollments_cont = df_results_notnull.loc[\"enrollments\"].Control\n",
    "clicks_cont = df_results_notnull.loc[\"clicks\"].Control\n",
    "payments_cont = df_results_notnull.loc[\"payments\"].Control\n",
    "\n",
    "# metrics\n",
    "GrossConversion_exp = enrollments_exp/clicks_exp\n",
    "NetConversion_exp = payments_exp/clicks_exp\n",
    "GrossConversion_cont = enrollments_cont/clicks_cont\n",
    "NetConversion_cont = payments_cont/clicks_cont\n",
    "\n",
    "#GrossConversion = (enrollments_exp + enrollments_cont)/(clicks_cont + clicks_exp)\n",
    "#NetConversion = (payments_cont + payments_exp)/(clicks_cont + clicks_exp)\n",
    "\n",
    "print(f\"Gross conversion for control: {GrossConversion_cont}\")\n",
    "print(f\"Net conversion for control: {NetConversion_cont}\")\n",
    "print(f\"Gross conversion for experiment: {GrossConversion_exp}\")\n",
    "print(f\"Net conversion for experiment: {NetConversion_exp}\")"
   ]
  },
  {
   "cell_type": "markdown",
   "metadata": {},
   "source": [
    "#### Two-sided hypothesis test to check if difference in conversion rates between the two groups is significant"
   ]
  },
  {
   "cell_type": "code",
   "execution_count": 31,
   "metadata": {},
   "outputs": [
    {
     "name": "stdout",
     "output_type": "stream",
     "text": [
      "2 sided test results for gross conversion\n",
      "std_err: 0.004370125116166828\n",
      "marg_err: 0.008565445227686982\n",
      "difference: -0.020554874580361565\n",
      "ci_lower: -0.029120319808048547\n",
      "ci_upper: -0.011989429352674583\n"
     ]
    }
   ],
   "source": [
    "# test for gross conversion\n",
    "std_err,marg_err,ci_lower,ci_upper = stats_prop(GrossConversion_exp, GrossConversion_cont, 1.96, clicks_exp, clicks_cont)\n",
    "diff = GrossConversion_exp - GrossConversion_cont\n",
    "print(\"2 sided test results for gross conversion\")\n",
    "print(f\"std_err: {std_err}\")\n",
    "print(f\"marg_err: {marg_err}\")\n",
    "print(f\"difference: {diff}\")\n",
    "print(f\"ci_lower: {ci_lower}\")\n",
    "print(f\"ci_upper: {ci_upper}\")"
   ]
  },
  {
   "cell_type": "code",
   "execution_count": 32,
   "metadata": {},
   "outputs": [
    {
     "name": "stdout",
     "output_type": "stream",
     "text": [
      "2 sided test results for net conversion\n",
      "std_err: 0.0034339730295116894\n",
      "marg_err: 0.006730587137842911\n",
      "difference: -0.0048737226745441675\n",
      "ci_lower: -0.011604309812387078\n",
      "ci_upper: 0.0018568644632987437\n"
     ]
    }
   ],
   "source": [
    "# test for net conversion\n",
    "std_err,marg_err,ci_lower,ci_upper = stats_prop(NetConversion_exp, NetConversion_cont, 1.96, clicks_exp, clicks_cont)\n",
    "diff = NetConversion_exp - NetConversion_cont\n",
    "print(\"2 sided test results for net conversion\")\n",
    "print(f\"std_err: {std_err}\")\n",
    "print(f\"marg_err: {marg_err}\")\n",
    "print(f\"difference: {diff}\")\n",
    "print(f\"ci_lower: {ci_lower}\")\n",
    "print(f\"ci_upper: {ci_upper}\")"
   ]
  },
  {
   "cell_type": "markdown",
   "metadata": {},
   "source": [
    "#### 5.3 Inference"
   ]
  },
  {
   "cell_type": "markdown",
   "metadata": {},
   "source": [
    "**Gross conversion**\n",
    "* Since the confidence interval does not contain zero, the difference is statistically significant. Further, since the difference is negative, it can be inferred that the experiment has reduced the gross conversion rate\n",
    "* Also, since the difference is greater than the minimum detectable effect of 0.01, it is considered to be practically significant as well\n",
    "\n",
    "**Net conversion**\n",
    "* Since the confidence interval contains zero, the difference is not statistically significant\n",
    "* Also, since the difference is lesser than the minimum detectable effect of 0.0075, it is not considered to be practically significant as well"
   ]
  },
  {
   "cell_type": "markdown",
   "metadata": {},
   "source": [
    "### 6. Recommendation and Conclusion"
   ]
  },
  {
   "cell_type": "markdown",
   "metadata": {},
   "source": [
    "* Based on the analysis of the AB test, it can be concluded that the experiment resulted in a decrease in the gross conversion rate of users. In other words, the ratio of the number of users enrolling in the free trial to the number of users clicking on the free trial has reduced. \n",
    "* However, the experiment did not increase net enrollment in a statistically significant manner. \n",
    "* Therefore, it can be considered partly successfull. The recommendation is to launch the experiment, while continuting to design additional experiments to achieve the goal of improved net enrollment"
   ]
  },
  {
   "cell_type": "code",
   "execution_count": null,
   "metadata": {},
   "outputs": [],
   "source": []
  },
  {
   "cell_type": "code",
   "execution_count": null,
   "metadata": {},
   "outputs": [],
   "source": []
  }
 ],
 "metadata": {
  "kernelspec": {
   "display_name": "Python 3",
   "language": "python",
   "name": "python3"
  },
  "language_info": {
   "codemirror_mode": {
    "name": "ipython",
    "version": 3
   },
   "file_extension": ".py",
   "mimetype": "text/x-python",
   "name": "python",
   "nbconvert_exporter": "python",
   "pygments_lexer": "ipython3",
   "version": "3.7.9"
  }
 },
 "nbformat": 4,
 "nbformat_minor": 4
}
