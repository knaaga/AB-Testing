{
 "cells": [
  {
   "cell_type": "markdown",
   "metadata": {},
   "source": [
    "E-Learning Company Webpage A/B Testing - Part 1\n",
    "-----------"
   ]
  },
  {
   "cell_type": "markdown",
   "metadata": {},
   "source": [
    "### Key Project Steps\n",
    "1. Problem statement\n",
    "2. Dataset description\n",
    "3. Data cleaning and wrangling\n",
    "4. AB testing\n",
    "5. Regression approach\n",
    "6. Influence of other factors\n",
    "7. Recommendation and conclusion"
   ]
  },
  {
   "cell_type": "markdown",
   "metadata": {},
   "source": [
    "### 1. Problem Statement"
   ]
  },
  {
   "cell_type": "markdown",
   "metadata": {},
   "source": [
    "**An e-learning company has developed a new web page to try and increase the number of users who enroll in their free data science program (in this context, the enrollment will be referred to as converting). They run an A/B test to understand if they should implement this new page. Further, they also tested this web page separately in three countries - US, UK and Canada to understand if the country of residence plays a role in determining the conversion rate of users. The goal here is to analyze these results and help the company make a decision**"
   ]
  },
  {
   "cell_type": "code",
   "execution_count": 2,
   "metadata": {},
   "outputs": [],
   "source": [
    "# import relevant libraries\n",
    "import pandas as pd\n",
    "import numpy as np\n",
    "import random\n",
    "import matplotlib.pyplot as plt\n",
    "import random\n",
    "import statsmodels.api as sm\n",
    "%matplotlib inline\n",
    "random.seed(42)"
   ]
  },
  {
   "cell_type": "markdown",
   "metadata": {},
   "source": [
    "### 2. Dataset Description"
   ]
  },
  {
   "cell_type": "code",
   "execution_count": 3,
   "metadata": {},
   "outputs": [
    {
     "data": {
      "text/html": [
       "<div>\n",
       "<style scoped>\n",
       "    .dataframe tbody tr th:only-of-type {\n",
       "        vertical-align: middle;\n",
       "    }\n",
       "\n",
       "    .dataframe tbody tr th {\n",
       "        vertical-align: top;\n",
       "    }\n",
       "\n",
       "    .dataframe thead th {\n",
       "        text-align: right;\n",
       "    }\n",
       "</style>\n",
       "<table border=\"1\" class=\"dataframe\">\n",
       "  <thead>\n",
       "    <tr style=\"text-align: right;\">\n",
       "      <th></th>\n",
       "      <th>user_id</th>\n",
       "      <th>timestamp</th>\n",
       "      <th>group</th>\n",
       "      <th>landing_page</th>\n",
       "      <th>converted</th>\n",
       "    </tr>\n",
       "  </thead>\n",
       "  <tbody>\n",
       "    <tr>\n",
       "      <th>0</th>\n",
       "      <td>851104</td>\n",
       "      <td>2017-01-21 22:11:48.556739</td>\n",
       "      <td>control</td>\n",
       "      <td>old_page</td>\n",
       "      <td>0</td>\n",
       "    </tr>\n",
       "    <tr>\n",
       "      <th>1</th>\n",
       "      <td>804228</td>\n",
       "      <td>2017-01-12 08:01:45.159739</td>\n",
       "      <td>control</td>\n",
       "      <td>old_page</td>\n",
       "      <td>0</td>\n",
       "    </tr>\n",
       "    <tr>\n",
       "      <th>2</th>\n",
       "      <td>661590</td>\n",
       "      <td>2017-01-11 16:55:06.154213</td>\n",
       "      <td>treatment</td>\n",
       "      <td>new_page</td>\n",
       "      <td>0</td>\n",
       "    </tr>\n",
       "    <tr>\n",
       "      <th>3</th>\n",
       "      <td>853541</td>\n",
       "      <td>2017-01-08 18:28:03.143765</td>\n",
       "      <td>treatment</td>\n",
       "      <td>new_page</td>\n",
       "      <td>0</td>\n",
       "    </tr>\n",
       "    <tr>\n",
       "      <th>4</th>\n",
       "      <td>864975</td>\n",
       "      <td>2017-01-21 01:52:26.210827</td>\n",
       "      <td>control</td>\n",
       "      <td>old_page</td>\n",
       "      <td>1</td>\n",
       "    </tr>\n",
       "    <tr>\n",
       "      <th>...</th>\n",
       "      <td>...</td>\n",
       "      <td>...</td>\n",
       "      <td>...</td>\n",
       "      <td>...</td>\n",
       "      <td>...</td>\n",
       "    </tr>\n",
       "    <tr>\n",
       "      <th>294473</th>\n",
       "      <td>751197</td>\n",
       "      <td>2017-01-03 22:28:38.630509</td>\n",
       "      <td>control</td>\n",
       "      <td>old_page</td>\n",
       "      <td>0</td>\n",
       "    </tr>\n",
       "    <tr>\n",
       "      <th>294474</th>\n",
       "      <td>945152</td>\n",
       "      <td>2017-01-12 00:51:57.078372</td>\n",
       "      <td>control</td>\n",
       "      <td>old_page</td>\n",
       "      <td>0</td>\n",
       "    </tr>\n",
       "    <tr>\n",
       "      <th>294475</th>\n",
       "      <td>734608</td>\n",
       "      <td>2017-01-22 11:45:03.439544</td>\n",
       "      <td>control</td>\n",
       "      <td>old_page</td>\n",
       "      <td>0</td>\n",
       "    </tr>\n",
       "    <tr>\n",
       "      <th>294476</th>\n",
       "      <td>697314</td>\n",
       "      <td>2017-01-15 01:20:28.957438</td>\n",
       "      <td>control</td>\n",
       "      <td>old_page</td>\n",
       "      <td>0</td>\n",
       "    </tr>\n",
       "    <tr>\n",
       "      <th>294477</th>\n",
       "      <td>715931</td>\n",
       "      <td>2017-01-16 12:40:24.467417</td>\n",
       "      <td>treatment</td>\n",
       "      <td>new_page</td>\n",
       "      <td>0</td>\n",
       "    </tr>\n",
       "  </tbody>\n",
       "</table>\n",
       "<p>294478 rows × 5 columns</p>\n",
       "</div>"
      ],
      "text/plain": [
       "        user_id                   timestamp      group landing_page  converted\n",
       "0        851104  2017-01-21 22:11:48.556739    control     old_page          0\n",
       "1        804228  2017-01-12 08:01:45.159739    control     old_page          0\n",
       "2        661590  2017-01-11 16:55:06.154213  treatment     new_page          0\n",
       "3        853541  2017-01-08 18:28:03.143765  treatment     new_page          0\n",
       "4        864975  2017-01-21 01:52:26.210827    control     old_page          1\n",
       "...         ...                         ...        ...          ...        ...\n",
       "294473   751197  2017-01-03 22:28:38.630509    control     old_page          0\n",
       "294474   945152  2017-01-12 00:51:57.078372    control     old_page          0\n",
       "294475   734608  2017-01-22 11:45:03.439544    control     old_page          0\n",
       "294476   697314  2017-01-15 01:20:28.957438    control     old_page          0\n",
       "294477   715931  2017-01-16 12:40:24.467417  treatment     new_page          0\n",
       "\n",
       "[294478 rows x 5 columns]"
      ]
     },
     "execution_count": 3,
     "metadata": {},
     "output_type": "execute_result"
    }
   ],
   "source": [
    "df = pd.read_csv('data/part1_results.csv')\n",
    "df"
   ]
  },
  {
   "cell_type": "code",
   "execution_count": 4,
   "metadata": {},
   "outputs": [
    {
     "name": "stdout",
     "output_type": "stream",
     "text": [
      "<class 'pandas.core.frame.DataFrame'>\n",
      "RangeIndex: 294478 entries, 0 to 294477\n",
      "Data columns (total 5 columns):\n",
      " #   Column        Non-Null Count   Dtype \n",
      "---  ------        --------------   ----- \n",
      " 0   user_id       294478 non-null  int64 \n",
      " 1   timestamp     294478 non-null  object\n",
      " 2   group         294478 non-null  object\n",
      " 3   landing_page  294478 non-null  object\n",
      " 4   converted     294478 non-null  int64 \n",
      "dtypes: int64(2), object(3)\n",
      "memory usage: 11.2+ MB\n",
      "None\n"
     ]
    }
   ],
   "source": [
    "print(df.info())"
   ]
  },
  {
   "cell_type": "markdown",
   "metadata": {},
   "source": [
    "#### 2.1 Preliminary Data Exploration"
   ]
  },
  {
   "cell_type": "code",
   "execution_count": 22,
   "metadata": {},
   "outputs": [
    {
     "name": "stdout",
     "output_type": "stream",
     "text": [
      "No of entries: 294478\n",
      "No of unique users: 290584\n",
      "No of times new_page and treatment don't line up: 3893\n",
      "Rows with missing values:\n",
      "user_id         0\n",
      "timestamp       0\n",
      "group           0\n",
      "landing_page    0\n",
      "converted       0\n",
      "dtype: int64\n"
     ]
    }
   ],
   "source": [
    "no_of_rows = len(df)\n",
    "print(f\"No of entries: {no_of_rows}\")\n",
    "\n",
    "no_of_unique_users = df.user_id.nunique()\n",
    "print(f\"No of unique users: {no_of_unique_users}\")\n",
    "\n",
    "no_of_mismatch = len(df.query('group == \"treatment\" and landing_page != \"new_page\"')) + len(df.query('group != \"treatment\" and landing_page == \"new_page\"'))\n",
    "print(f\"No of times new_page and treatment don't line up: {no_of_mismatch}\")\n",
    "\n",
    "rows_with_na = df.isnull().sum()\n",
    "print(f\"Rows with missing values:\\n{rows_with_na}\")"
   ]
  },
  {
   "cell_type": "markdown",
   "metadata": {},
   "source": [
    "### 3. Data Cleaning and Wrangling"
   ]
  },
  {
   "cell_type": "code",
   "execution_count": 37,
   "metadata": {},
   "outputs": [
    {
     "name": "stdout",
     "output_type": "stream",
     "text": [
      "No of times new_page and treatment don't line up in the new dataframe: 0\n",
      "No of entries in the new dataframe: 290585\n",
      "No of unique users in the new dataframe: 290584\n",
      "No of duplicate users in the new dataframe: 1\n",
      "Duplicate user id: 2893    773192\n",
      "Name: user_id, dtype: int64\n",
      "No of entries in the new dataframe after dropping duplicate users: 290584\n"
     ]
    }
   ],
   "source": [
    "# create a new dataframe, ignoring entries from the original dataset\n",
    "# where treatment and new page do not align\n",
    "df2 = df[((df.group == 'treatment') & (df.landing_page == 'new_page')) | ((df.group == 'control') & (df.landing_page == 'old_page'))]\n",
    "\n",
    "# double check that there are no misaligned entries\n",
    "no_of_mismatch_df2 = len(df2.query('group == \"treatment\" and landing_page != \"new_page\"')) + len(df2.query('group != \"treatment\" and landing_page == \"new_page\"'))\n",
    "print(f\"No of times new_page and treatment don't line up in the new dataframe: {no_of_mismatch_df2}\")\n",
    "\n",
    "# no of entries in the new dataframe\n",
    "no_of_rows_df2 = len(df2)\n",
    "print(f\"No of entries in the new dataframe: {no_of_rows_df2}\")\n",
    "\n",
    "# check for duplicate users\n",
    "no_of_unique_users_df2 = df2.user_id.nunique()\n",
    "print(f\"No of unique users in the new dataframe: {no_of_unique_users_df2}\")\n",
    "print(f\"No of duplicate users in the new dataframe: {no_of_rows_df2 - no_of_unique_users_df2}\")\n",
    "\n",
    "# find the duplicate user and drop him\n",
    "dup_user = df2[df2['user_id'].duplicated()].user_id\n",
    "print(f\"Duplicate user id: {dup_user}\")\n",
    "df2.drop_duplicates(subset=['user_id'], inplace=True, keep = 'first')\n",
    "\n",
    "# no of entries in the new dataframe after dropping duplicate users\n",
    "no_of_rows_df2_after_drop = len(df2)\n",
    "print(f\"No of entries in the new dataframe after dropping duplicate users: {no_of_rows_df2_after_drop}\")"
   ]
  },
  {
   "cell_type": "markdown",
   "metadata": {},
   "source": [
    "### 4. AB Testing"
   ]
  },
  {
   "cell_type": "markdown",
   "metadata": {},
   "source": [
    "#### 4.1 Probabillities and Conversion Rates"
   ]
  },
  {
   "cell_type": "code",
   "execution_count": 39,
   "metadata": {},
   "outputs": [
    {
     "name": "stdout",
     "output_type": "stream",
     "text": [
      "Overall conversion rate irrespective of page: 0.11959708724499628\n",
      "Control group conversion rate: 0.1203863045004612\n",
      "Treatment group conversion rate: 0.11880806551510564\n",
      "Probability that the individual received the new page: 0.5000619442226688\n"
     ]
    }
   ],
   "source": [
    "# overall conversion rate irrespective of page\n",
    "convert_prob_overall = df2['converted'].mean()\n",
    "print(f\"Overall conversion rate irrespective of page: {convert_prob_overall}\")\n",
    "\n",
    "# control group conversion rate\n",
    "convert_prob_control = df2['user_id'][(df2['converted']==1) & (df2['group']=='control')].count() / df2['user_id'][(df2['group']=='control')].count()\n",
    "print(f\"Control group conversion rate: {convert_prob_control}\")\n",
    "\n",
    "# treatment group conversion rate\n",
    "convert_prob_treatment = df2['user_id'][(df2['converted']==1) & (df2['group']=='treatment')].count() / df2['user_id'][(df2['group']=='treatment')].count()\n",
    "print(f\"Treatment group conversion rate: {convert_prob_treatment}\")\n",
    "\n",
    "# probability that the individual received the new page\n",
    "prob_new_page = df2['user_id'][(df2['group']=='treatment')].count() / df2['user_id'].count()\n",
    "print(f\"Probability that the individual received the new page: {prob_new_page}\")"
   ]
  },
  {
   "cell_type": "markdown",
   "metadata": {},
   "source": [
    "#### 4.2 Hypothesis Formulation"
   ]
  },
  {
   "cell_type": "markdown",
   "metadata": {},
   "source": [
    "Under the null, p_new and p_old are equal to the overall conversion rate (irrespective of the page). Therefore the null and alternate hypothesis can formulated as follows:\n",
    "\n",
    "* **Null Hypothesis: The conversion rate of the old and new page is the same and is equal to the overall conversion rate**\n",
    "\n",
    "* **Alternate Hypothesis: There is a difference in conversion rates between the old and new pages**"
   ]
  },
  {
   "cell_type": "code",
   "execution_count": 43,
   "metadata": {},
   "outputs": [
    {
     "name": "stdout",
     "output_type": "stream",
     "text": [
      "Conversion rates of the new page under the null: 0.11959708724499628\n",
      "Conversion rates of the old page under the null: 0.11959708724499628\n",
      "Number of individuals in the treatment group: 145310\n",
      "Number of individuals in the treatment group: 145274\n"
     ]
    }
   ],
   "source": [
    "# conversion rates p_new under the null\n",
    "p_new = convert_prob_overall\n",
    "print(f\"Conversion rates of the new page under the null: {p_new}\")\n",
    "\n",
    "# conversion rates p_old under the null\n",
    "p_old = convert_prob_overall\n",
    "print(f\"Conversion rates of the old page under the null: {p_old}\")\n",
    "\n",
    "# number of individuals in the treatment group\n",
    "n_new = len(df2[df2.group=='treatment'])\n",
    "print(f\"Number of individuals in the treatment group: {n_new}\")\n",
    "\n",
    "# number of individuals in the control group\n",
    "n_old = len(df2[df2.group=='control'])\n",
    "print(f\"Number of individuals in the treatment group: {n_old}\")"
   ]
  },
  {
   "cell_type": "code",
   "execution_count": 53,
   "metadata": {},
   "outputs": [
    {
     "name": "stdout",
     "output_type": "stream",
     "text": [
      "Simulated conversion rate for the new page: 0.11957194962493978\n",
      "Simulated conversion rate for the old page: 0.11907645722937168\n",
      "Difference in simulated conversion rates: 0.0004954923955680923\n"
     ]
    }
   ],
   "source": [
    "# simulate n_new transactions with a conversion rate of p_new under the null\n",
    "sim_new_page_converted = np.random.choice(2, size=n_new, p=[1-p_new, p_new]).mean()\n",
    "print(f\"Simulated conversion rate for the new page: {sim_new_page_converted}\")\n",
    "\n",
    "# simulate n_old transactions with a conversion rate of p_old under the null\n",
    "sim_old_page_converted = np.random.choice(2, size=n_new, p=[1-p_old, p_old]).mean()\n",
    "print(f\"Simulated conversion rate for the old page: {sim_old_page_converted}\")\n",
    "\n",
    "# difference in simulated conversion rates\n",
    "diff_sim_page_converted = sim_new_page_converted - sim_old_page_converted\n",
    "print(f\"Difference in simulated conversion rates: {diff_sim_page_converted}\")"
   ]
  },
  {
   "cell_type": "markdown",
   "metadata": {},
   "source": [
    "#### 4.3 Sampling Distribution\n",
    "\n",
    "* A sampling distribution of the difference in conversion rates between the two pages over 10,000 iterations"
   ]
  },
  {
   "cell_type": "code",
   "execution_count": null,
   "metadata": {},
   "outputs": [],
   "source": [
    "p_diffs_sim = []\n",
    "for i in range(10000):\n",
    "    p_diffs_sim.append(np.mean(np.random.choice(2, size=n_new, p=[1-p_new, p_new])) - np.mean(np.random.choice(2, size=n_old, p=[1-p_old, p_old])))"
   ]
  },
  {
   "cell_type": "code",
   "execution_count": 69,
   "metadata": {},
   "outputs": [
    {
     "name": "stdout",
     "output_type": "stream",
     "text": [
      "Observed difference in conversion rates: -0.0015782389853555567\n",
      "\n",
      "\n"
     ]
    },
    {
     "data": {
      "image/png": "[encoded data removed]",
      "text/plain": [
       "<Figure size 720x360 with 1 Axes>"
      ]
     },
     "metadata": {
      "needs_background": "light"
     },
     "output_type": "display_data"
    }
   ],
   "source": [
    "# observed difference in conversion rates\n",
    "p_diffs_obs = convert_prob_treatment - convert_prob_control\n",
    "print(f\"Observed difference in conversion rates: {p_diffs_obs}\\n\\n\")\n",
    "\n",
    "# plot histogram\n",
    "plt.figure(figsize=(10,5))\n",
    "plt.hist(p_diffs_sim, color='c', edgecolor='k', alpha=0.65)\n",
    "plt.title(\"Sampling Distribution of 10,000 Simulated Differences in Conversion Rates\")\n",
    "plt.axvline(p_diffs_obs, color='r', linestyle='dashed', linewidth=3)\n",
    "plt.xlabel(\"Simulated Difference\")\n",
    "plt.ylabel(\"Counts\")\n",
    "plt.tight_layout()"
   ]
  },
  {
   "cell_type": "code",
   "execution_count": 80,
   "metadata": {},
   "outputs": [
    {
     "name": "stdout",
     "output_type": "stream",
     "text": [
      "Proportion of samples where the difference is greater than the observed differece: 0.187\n"
     ]
    }
   ],
   "source": [
    "# proportion of simulated samples where the difference is greater than the observed \n",
    "# difference on both sides\n",
    "p_diffs_extreme = [abs(x) for x in p_diffs_sim ] > abs(p_diffs_obs)\n",
    "print(f\"Proportion of samples where the difference is greater than the observed differece: {np.mean(p_diffs_extreme)}\")"
   ]
  },
  {
   "cell_type": "code",
   "execution_count": 91,
   "metadata": {},
   "outputs": [
    {
     "name": "stdout",
     "output_type": "stream",
     "text": [
      "Z score: 1.3109241984234394\n",
      "P value: 0.18988337448195103\n"
     ]
    }
   ],
   "source": [
    "# use Python's built in modules to obtain the statistics\n",
    "convert_old = convert_prob_control * n_old\n",
    "convert_new = convert_prob_treatment * n_new\n",
    "z_score, p_value = sm.stats.proportions_ztest([convert_old, convert_new], [n_old, n_new],alternative='two-sided')\n",
    "print(f\"Z score: {z_score}\")\n",
    "print(f\"P value: {p_value}\")"
   ]
  },
  {
   "cell_type": "markdown",
   "metadata": {},
   "source": [
    "#### 4.4 Inference\n",
    "\n",
    "Since the p-value is greater than 0.05, we reject the null hypothesis. In other words, 18.9% of the differences are as extreme as the observed difference. Therefore, at a type 1 error rate (alpha) of 5%, we can conclude that the new page and old page are not statistically different in converting users to enroll in the free program"
   ]
  },
  {
   "cell_type": "markdown",
   "metadata": {},
   "source": [
    "### 5. Regression Approach"
   ]
  },
  {
   "cell_type": "markdown",
   "metadata": {},
   "source": [
    "Logistic regression is performed to confirm the results obtained previously"
   ]
  },
  {
   "cell_type": "markdown",
   "metadata": {},
   "source": [
    "#### 5.1 Logistic Regression"
   ]
  },
  {
   "cell_type": "code",
   "execution_count": 107,
   "metadata": {},
   "outputs": [
    {
     "data": {
      "text/html": [
       "<div>\n",
       "<style scoped>\n",
       "    .dataframe tbody tr th:only-of-type {\n",
       "        vertical-align: middle;\n",
       "    }\n",
       "\n",
       "    .dataframe tbody tr th {\n",
       "        vertical-align: top;\n",
       "    }\n",
       "\n",
       "    .dataframe thead th {\n",
       "        text-align: right;\n",
       "    }\n",
       "</style>\n",
       "<table border=\"1\" class=\"dataframe\">\n",
       "  <thead>\n",
       "    <tr style=\"text-align: right;\">\n",
       "      <th></th>\n",
       "      <th>user_id</th>\n",
       "      <th>timestamp</th>\n",
       "      <th>group</th>\n",
       "      <th>landing_page</th>\n",
       "      <th>converted</th>\n",
       "      <th>ab_page</th>\n",
       "      <th>intercept</th>\n",
       "    </tr>\n",
       "  </thead>\n",
       "  <tbody>\n",
       "    <tr>\n",
       "      <th>0</th>\n",
       "      <td>851104</td>\n",
       "      <td>2017-01-21 22:11:48.556739</td>\n",
       "      <td>control</td>\n",
       "      <td>old_page</td>\n",
       "      <td>0</td>\n",
       "      <td>0</td>\n",
       "      <td>1</td>\n",
       "    </tr>\n",
       "    <tr>\n",
       "      <th>1</th>\n",
       "      <td>804228</td>\n",
       "      <td>2017-01-12 08:01:45.159739</td>\n",
       "      <td>control</td>\n",
       "      <td>old_page</td>\n",
       "      <td>0</td>\n",
       "      <td>0</td>\n",
       "      <td>1</td>\n",
       "    </tr>\n",
       "    <tr>\n",
       "      <th>2</th>\n",
       "      <td>661590</td>\n",
       "      <td>2017-01-11 16:55:06.154213</td>\n",
       "      <td>treatment</td>\n",
       "      <td>new_page</td>\n",
       "      <td>0</td>\n",
       "      <td>1</td>\n",
       "      <td>1</td>\n",
       "    </tr>\n",
       "    <tr>\n",
       "      <th>3</th>\n",
       "      <td>853541</td>\n",
       "      <td>2017-01-08 18:28:03.143765</td>\n",
       "      <td>treatment</td>\n",
       "      <td>new_page</td>\n",
       "      <td>0</td>\n",
       "      <td>1</td>\n",
       "      <td>1</td>\n",
       "    </tr>\n",
       "    <tr>\n",
       "      <th>4</th>\n",
       "      <td>864975</td>\n",
       "      <td>2017-01-21 01:52:26.210827</td>\n",
       "      <td>control</td>\n",
       "      <td>old_page</td>\n",
       "      <td>1</td>\n",
       "      <td>0</td>\n",
       "      <td>1</td>\n",
       "    </tr>\n",
       "  </tbody>\n",
       "</table>\n",
       "</div>"
      ],
      "text/plain": [
       "   user_id                   timestamp      group landing_page  converted  \\\n",
       "0   851104  2017-01-21 22:11:48.556739    control     old_page          0   \n",
       "1   804228  2017-01-12 08:01:45.159739    control     old_page          0   \n",
       "2   661590  2017-01-11 16:55:06.154213  treatment     new_page          0   \n",
       "3   853541  2017-01-08 18:28:03.143765  treatment     new_page          0   \n",
       "4   864975  2017-01-21 01:52:26.210827    control     old_page          1   \n",
       "\n",
       "   ab_page  intercept  \n",
       "0        0          1  \n",
       "1        0          1  \n",
       "2        1          1  \n",
       "3        1          1  \n",
       "4        0          1  "
      ]
     },
     "execution_count": 107,
     "metadata": {},
     "output_type": "execute_result"
    }
   ],
   "source": [
    "# create dummy variables from the group column\n",
    "# column ab_page should be 1 when an individual receives the treatment, 0 otherwise\n",
    "df2[['control','ab_page']] = pd.get_dummies(df2['group'])\n",
    "\n",
    "# drop the control column\n",
    "df2.drop('control', axis=1, inplace=True)\n",
    "\n",
    "# create intercept column\n",
    "df2['intercept'] = 1\n",
    "\n",
    "# check to make sure the columns are added and to compare with old df2\n",
    "df2.head()"
   ]
  },
  {
   "cell_type": "code",
   "execution_count": 108,
   "metadata": {},
   "outputs": [
    {
     "name": "stdout",
     "output_type": "stream",
     "text": [
      "Optimization terminated successfully.\n",
      "         Current function value: 0.366118\n",
      "         Iterations 6\n",
      "                          Results: Logit\n",
      "==================================================================\n",
      "Model:              Logit            Pseudo R-squared: 0.000      \n",
      "Dependent Variable: converted        AIC:              212780.3502\n",
      "Date:               2022-05-20 00:02 BIC:              212801.5095\n",
      "No. Observations:   290584           Log-Likelihood:   -1.0639e+05\n",
      "Df Model:           1                LL-Null:          -1.0639e+05\n",
      "Df Residuals:       290582           LLR p-value:      0.18988    \n",
      "Converged:          1.0000           Scale:            1.0000     \n",
      "No. Iterations:     6.0000                                        \n",
      "-------------------------------------------------------------------\n",
      "              Coef.   Std.Err.      z      P>|z|    [0.025   0.975]\n",
      "-------------------------------------------------------------------\n",
      "intercept    -1.9888    0.0081  -246.6690  0.0000  -2.0046  -1.9730\n",
      "ab_page      -0.0150    0.0114    -1.3109  0.1899  -0.0374   0.0074\n",
      "==================================================================\n",
      "\n"
     ]
    }
   ],
   "source": [
    "# instantiate regression model on the two columns - converted and ab_page\n",
    "log_mod = sm.Logit(df2['converted'], df2[['intercept', 'ab_page']])\n",
    "\n",
    "# fit the model\n",
    "results = log_mod.fit()\n",
    "print(results.summary2())"
   ]
  },
  {
   "cell_type": "code",
   "execution_count": 115,
   "metadata": {},
   "outputs": [
    {
     "name": "stdout",
     "output_type": "stream",
     "text": [
      "The new page is 98.51% as likely to convert users as the old page. In other words, the new page is 1.49% less likely to convert users as the old page\n"
     ]
    }
   ],
   "source": [
    "# likelihood\n",
    "lik = np.exp(-0.015)\n",
    "\n",
    "print(f\"The new page is {round(lik*100, 2)}% as likely to convert users as the old page. In \\\n",
    "other words, the new page is {round((1-lik)*100, 2)}% less likely to convert users as the old page\")"
   ]
  },
  {
   "cell_type": "markdown",
   "metadata": {},
   "source": [
    "#### 5.2 Inference\n",
    "\n",
    "* All the logistic regression model is doing is check whether there is a statistically significant difference in the conversion rate between the pages. (2-tail). (It calculates the observed difference internally)\n",
    "\n",
    "* Since the p value is greater than 0.05, we fail to reject the null and can conclude that there is a statistically significant difference in the conversion rates between the two pages"
   ]
  },
  {
   "cell_type": "markdown",
   "metadata": {},
   "source": [
    "### 6. Influence of Other factors"
   ]
  },
  {
   "cell_type": "markdown",
   "metadata": {},
   "source": [
    "Here, we test the effect that the country that a user lives in, has on the conversion rate"
   ]
  },
  {
   "cell_type": "markdown",
   "metadata": {},
   "source": [
    "#### 6.1 Logistic Regression"
   ]
  },
  {
   "cell_type": "code",
   "execution_count": 124,
   "metadata": {},
   "outputs": [
    {
     "name": "stdout",
     "output_type": "stream",
     "text": [
      "   user_id                   timestamp      group landing_page  converted  \\\n",
      "0   851104  2017-01-21 22:11:48.556739    control     old_page          0   \n",
      "1   804228  2017-01-12 08:01:45.159739    control     old_page          0   \n",
      "2   661590  2017-01-11 16:55:06.154213  treatment     new_page          0   \n",
      "3   853541  2017-01-08 18:28:03.143765  treatment     new_page          0   \n",
      "4   864975  2017-01-21 01:52:26.210827    control     old_page          1   \n",
      "\n",
      "   ab_page  intercept  CA  UK  US  US_ab_page  UK_ab_page  CA_ab_page  \n",
      "0        0          1   0   0   1           0           0           0  \n",
      "1        0          1   0   0   1           0           0           0  \n",
      "2        1          1   0   0   1           1           0           0  \n",
      "3        1          1   0   0   1           1           0           0  \n",
      "4        0          1   0   0   1           0           0           0  \n"
     ]
    }
   ],
   "source": [
    "# read in countries dataset\n",
    "df3 = pd.read_csv('data/part1_countries.csv')\n",
    "df3.head()\n",
    "\n",
    "# create dummy columns for country\n",
    "df3[['CA','UK', 'US']] = pd.get_dummies(df3['country'])\n",
    "# drop the country column since this is not necessary\n",
    "df3.drop('country', axis=1, inplace=True)\n",
    "df3.head()\n",
    "\n",
    "# merge the countries dataframe with the current users dataframe\n",
    "new_df = df2.merge(df3, on='user_id')\n",
    "new_df.head()\n",
    "\n",
    "# combine conversion and country\n",
    "new_df['US_ab_page'] = new_df['US'] * new_df['ab_page']\n",
    "new_df['UK_ab_page'] = new_df['UK'] * new_df['ab_page']\n",
    "new_df['CA_ab_page'] = new_df['CA'] * new_df['ab_page']\n",
    "print(new_df.head())"
   ]
  },
  {
   "cell_type": "code",
   "execution_count": 126,
   "metadata": {},
   "outputs": [
    {
     "name": "stdout",
     "output_type": "stream",
     "text": [
      "Optimization terminated successfully.\n",
      "         Current function value: 0.366109\n",
      "         Iterations 6\n"
     ]
    },
    {
     "data": {
      "text/html": [
       "<table class=\"simpletable\">\n",
       "<tr>\n",
       "        <td>Model:</td>              <td>Logit</td>      <td>Pseudo R-squared:</td>    <td>0.000</td>   \n",
       "</tr>\n",
       "<tr>\n",
       "  <td>Dependent Variable:</td>     <td>converted</td>          <td>AIC:</td>        <td>212778.9383</td>\n",
       "</tr>\n",
       "<tr>\n",
       "         <td>Date:</td>        <td>2022-05-20 00:22</td>       <td>BIC:</td>        <td>212821.2568</td>\n",
       "</tr>\n",
       "<tr>\n",
       "   <td>No. Observations:</td>       <td>290584</td>       <td>Log-Likelihood:</td>  <td>-1.0639e+05</td>\n",
       "</tr>\n",
       "<tr>\n",
       "       <td>Df Model:</td>              <td>3</td>            <td>LL-Null:</td>      <td>-1.0639e+05</td>\n",
       "</tr>\n",
       "<tr>\n",
       "     <td>Df Residuals:</td>         <td>290580</td>        <td>LLR p-value:</td>     <td>0.067853</td>  \n",
       "</tr>\n",
       "<tr>\n",
       "      <td>Converged:</td>           <td>1.0000</td>           <td>Scale:</td>         <td>1.0000</td>   \n",
       "</tr>\n",
       "<tr>\n",
       "    <td>No. Iterations:</td>        <td>6.0000</td>              <td></td>               <td></td>      \n",
       "</tr>\n",
       "</table>\n",
       "<table class=\"simpletable\">\n",
       "<tr>\n",
       "       <td></td>       <th>Coef.</th>  <th>Std.Err.</th>     <th>z</th>      <th>P>|z|</th> <th>[0.025</th>  <th>0.975]</th> \n",
       "</tr>\n",
       "<tr>\n",
       "  <th>intercept</th>  <td>-1.9888</td>  <td>0.0081</td>  <td>-246.6690</td> <td>0.0000</td> <td>-2.0046</td> <td>-1.9730</td>\n",
       "</tr>\n",
       "<tr>\n",
       "  <th>US_ab_page</th> <td>-0.0183</td>  <td>0.0126</td>   <td>-1.4486</td>  <td>0.1475</td> <td>-0.0430</td> <td>0.0064</td> \n",
       "</tr>\n",
       "<tr>\n",
       "  <th>UK_ab_page</th> <td>0.0074</td>   <td>0.0180</td>   <td>0.4098</td>   <td>0.6819</td> <td>-0.0279</td> <td>0.0427</td> \n",
       "</tr>\n",
       "<tr>\n",
       "  <th>CA_ab_page</th> <td>-0.0827</td>  <td>0.0380</td>   <td>-2.1763</td>  <td>0.0295</td> <td>-0.1571</td> <td>-0.0082</td>\n",
       "</tr>\n",
       "</table>"
      ],
      "text/plain": [
       "<class 'statsmodels.iolib.summary2.Summary'>\n",
       "\"\"\"\n",
       "                          Results: Logit\n",
       "==================================================================\n",
       "Model:              Logit            Pseudo R-squared: 0.000      \n",
       "Dependent Variable: converted        AIC:              212778.9383\n",
       "Date:               2022-05-20 00:22 BIC:              212821.2568\n",
       "No. Observations:   290584           Log-Likelihood:   -1.0639e+05\n",
       "Df Model:           3                LL-Null:          -1.0639e+05\n",
       "Df Residuals:       290580           LLR p-value:      0.067853   \n",
       "Converged:          1.0000           Scale:            1.0000     \n",
       "No. Iterations:     6.0000                                        \n",
       "-------------------------------------------------------------------\n",
       "              Coef.   Std.Err.      z      P>|z|    [0.025   0.975]\n",
       "-------------------------------------------------------------------\n",
       "intercept    -1.9888    0.0081  -246.6690  0.0000  -2.0046  -1.9730\n",
       "US_ab_page   -0.0183    0.0126    -1.4486  0.1475  -0.0430   0.0064\n",
       "UK_ab_page    0.0074    0.0180     0.4098  0.6819  -0.0279   0.0427\n",
       "CA_ab_page   -0.0827    0.0380    -2.1763  0.0295  -0.1571  -0.0082\n",
       "==================================================================\n",
       "\n",
       "\"\"\""
      ]
     },
     "execution_count": 126,
     "metadata": {},
     "output_type": "execute_result"
    }
   ],
   "source": [
    "# fit the regression model\n",
    "log_mod2 = sm.Logit(new_df['converted'], new_df[['intercept', 'US_ab_page', 'UK_ab_page', 'CA_ab_page']])\n",
    "results2 = log_mod2.fit()\n",
    "results2.summary2()"
   ]
  },
  {
   "cell_type": "code",
   "execution_count": 128,
   "metadata": {},
   "outputs": [
    {
     "data": {
      "text/plain": [
       "intercept     0.136863\n",
       "US_ab_page    0.981901\n",
       "UK_ab_page    1.007417\n",
       "CA_ab_page    0.920649\n",
       "dtype: float64"
      ]
     },
     "execution_count": 128,
     "metadata": {},
     "output_type": "execute_result"
    }
   ],
   "source": [
    "# likelihood\n",
    "np.exp(results2.params)"
   ]
  },
  {
   "cell_type": "markdown",
   "metadata": {},
   "source": [
    "#### 6.2 Inference\n",
    "    \n",
    "Taking into account the country a particular user lives in, the p-value of the interactive term CA_ab_page was 0.0295, thereby suggesting that for residents of Canada, there is a statistically significant difference in conversion rates between the old and new pages. The new page is about 8% less likely to convert users compared to the old page. For US and UK residents, a statistically signifcant difference in conversion rates does not exist."
   ]
  },
  {
   "cell_type": "markdown",
   "metadata": {},
   "source": [
    "### 7. Recommendation and Conclusion"
   ]
  },
  {
   "cell_type": "markdown",
   "metadata": {},
   "source": [
    "* Based on the analysis of the AB test results using different techniques like z-test and regression, it can be concluded that the difference in percentage of users enrolling in the free trial of the data science program between the new and old web page is not statistically significant. \n",
    "\n",
    "* When the influence of the countries that the users resided in was taken into account, the difference was not statistically different for UK and US. For Canada however, it was observed that the new web page is about 8% less likely to convert users compared to the old page. \n",
    "\n",
    "* Based on these results, the recommendation to the e-commerce company is to not launch the new web page"
   ]
  },
  {
   "cell_type": "code",
   "execution_count": null,
   "metadata": {},
   "outputs": [],
   "source": []
  }
 ],
 "metadata": {
  "kernelspec": {
   "display_name": "Python 3",
   "language": "python",
   "name": "python3"
  },
  "language_info": {
   "codemirror_mode": {
    "name": "ipython",
    "version": 3
   },
   "file_extension": ".py",
   "mimetype": "text/x-python",
   "name": "python",
   "nbconvert_exporter": "python",
   "pygments_lexer": "ipython3",
   "version": "3.7.9"
  }
 },
 "nbformat": 4,
 "nbformat_minor": 4
}
